{
 "cells": [
  {
   "cell_type": "markdown",
   "id": "44e28cfb",
   "metadata": {},
   "source": [
    "# Project - Breaking the Vigenere Cipher\n",
    "\n",
    "This project demonstrates that the Vigenere Cipher -- while superior to a simple shift cipher -- is still not perfectly secure.\n",
    "\n",
    "We will learn in later assignments that the issue with the Vigenere cipher is that the chosen key can have length smaller than the message. This allowance is what ends up leaking information: the repeated pattern of letters in the key is enough to help determine what the original message was. \n",
    "\n",
    "In our set up, we are given a cipher text initially. Taking advantage of the fact that english letters are not chosen in words uniformly, we will recover the key. The steps involved in attacking the Vigenere Cipher are as follows:\n",
    "\n",
    "1. Determine the key length\n",
    "\n",
    "2. Determine each byte of the key\n",
    "\n",
    "Once the key is known, it can be used easily to decrypt the encrypted message.\n",
    "\n",
    "Assumptions made:\n",
    "\n",
    "* **The message is in english.** This assumption means we can use a chart of plaintext english letter frequencies to our advantage. More on this in a moment."
   ]
  },
  {
   "cell_type": "markdown",
   "id": "5393f15e",
   "metadata": {},
   "source": [
    "# Part 1 - Determine the Key Length"
   ]
  },
  {
   "cell_type": "code",
   "execution_count": 2,
   "id": "ecb00dd6",
   "metadata": {},
   "outputs": [],
   "source": [
    "message = \"F96DE8C227A259C87EE1DA2AED57C93FE5DA36ED4EC87EF2C63AAE5B9A7EFFD673BE4ACF7BE8923CAB1ECE7AF2DA3DA44FCF7AE29235A24C963FF0DF3CA3599A70E5DA36BF1ECE77F8DC34BE129A6CF4D126BF5B9A7CFEDF3EB850D37CF0C63AA2509A76FF9227A55B9A6FE3D720A850D97AB1DD35ED5FCE6BF0D138A84CC931B1F121B44ECE70F6C032BD56C33FF9D320ED5CDF7AFF9226BE5BDE3FF7DD21ED56CF71F5C036A94D963FF8D473A351CE3FE5DA3CB84DDB71F5C17FED51DC3FE8D732BF4D963FF3C727ED4AC87EF5DB27A451D47EFD9230BF47CA6BFEC12ABE4ADF72E29224A84CDF3FF5D720A459D47AF59232A35A9A7AE7D33FB85FCE7AF5923AA31EDB3FF7D33ABF52C33FF0D673A551D93FFCD33DA35BC831B1F43CBF1EDF67F0DF23A15B963FE5DA36ED68D378F4DC36BF5B9A7AFFD121B44ECE76FEDC73BE5DD27AFCD773BA5FC93FE5DA3CB859D26BB1C63CED5CDF3FE2D730B84CDF3FF7DD21ED5ADF7CF0D636BE1EDB79E5D721ED57CE3FE6D320ED57D469F4DC27A85A963FF3C727ED49DF3FFFDD24ED55D470E69E73AC50DE3FE5DA3ABE1EDF67F4C030A44DDF3FF5D73EA250C96BE3D327A84D963FE5DA32B91ED36BB1D132A31ED87AB1D021A255DF71B1C436BF479A7AF0C13AA14794\""
   ]
  },
  {
   "cell_type": "code",
   "execution_count": 3,
   "id": "b42fd0ce",
   "metadata": {},
   "outputs": [
    {
     "name": "stdout",
     "output_type": "stream",
     "text": [
      "940\n",
      "[249, 109, 232, 194, 39, 162, 89, 200, 126, 225, 218, 42, 237, 87, 201, 63, 229, 218, 54, 237, 78, 200, 126, 242, 198, 58, 174, 91, 154, 126, 255, 214, 115, 190, 74, 207, 123, 232, 146, 60, 171, 30, 206, 122, 242, 218, 61, 164, 79, 207, 122, 226, 146, 53, 162, 76, 150, 63, 240, 223, 60, 163, 89, 154, 112, 229, 218, 54, 191, 30, 206, 119, 248, 220, 52, 190, 18, 154, 108, 244, 209, 38, 191, 91, 154, 124, 254, 223, 62, 184, 80, 211, 124, 240, 198, 58, 162, 80, 154, 118, 255, 146, 39, 165, 91, 154, 111, 227, 215, 32, 168, 80, 217, 122, 177, 221, 53, 237, 95, 206, 107, 240, 209, 56, 168, 76, 201, 49, 177, 241, 33, 180, 78, 206, 112, 246, 192, 50, 189, 86, 195, 63, 249, 211, 32, 237, 92, 223, 122, 255, 146, 38, 190, 91, 222, 63, 247, 221, 33, 237, 86, 207, 113, 245, 192, 54, 169, 77, 150, 63, 248, 212, 115, 163, 81, 206, 63, 229, 218, 60, 184, 77, 219, 113, 245, 193, 127, 237, 81, 220, 63, 232, 215, 50, 191, 77, 150, 63, 243, 199, 39, 237, 74, 200, 126, 245, 219, 39, 164, 81, 212, 126, 253, 146, 48, 191, 71, 202, 107, 254, 193, 42, 190, 74, 223, 114, 226, 146, 36, 168, 76, 223, 63, 245, 215, 32, 164, 89, 212, 122, 245, 146, 50, 163, 90, 154, 122, 231, 211, 63, 184, 95, 206, 122, 245, 146, 58, 163, 30, 219, 63, 247, 211, 58, 191, 82, 195, 63, 240, 214, 115, 165, 81, 217, 63, 252, 211, 61, 163, 91, 200, 49, 177, 244, 60, 191, 30, 223, 103, 240, 223, 35, 161, 91, 150, 63, 229, 218, 54, 237, 104, 211, 120, 244, 220, 54, 191, 91, 154, 122, 255, 209, 33, 180, 78, 206, 118, 254, 220, 115, 190, 93, 210, 122, 252, 215, 115, 186, 95, 201, 63, 229, 218, 60, 184, 89, 210, 107, 177, 198, 60, 237, 92, 223, 63, 226, 215, 48, 184, 76, 223, 63, 247, 221, 33, 237, 90, 223, 124, 240, 214, 54, 190, 30, 219, 121, 229, 215, 33, 237, 87, 206, 63, 230, 211, 32, 237, 87, 212, 105, 244, 220, 39, 168, 90, 150, 63, 243, 199, 39, 237, 73, 223, 63, 255, 221, 36, 237, 85, 212, 112, 230, 158, 115, 172, 80, 222, 63, 229, 218, 58, 190, 30, 223, 103, 244, 192, 48, 164, 77, 223, 63, 245, 215, 62, 162, 80, 201, 107, 227, 211, 39, 168, 77, 150, 63, 229, 218, 50, 185, 30, 211, 107, 177, 209, 50, 163, 30, 216, 122, 177, 208, 33, 162, 85, 223, 113, 177, 196, 54, 191, 71, 154, 122, 240, 193, 58, 161, 71, 148] 470\n",
      "7 0.0860726643598616\n",
      "[0.013535536441828873, 0.01385242191036668, 0.019108280254777097, 0.017380063200229834, 0.024445450430058836, 0.019708380067296895, 0.0860726643598616, 0.024992818155702378, 0.02954788180847275, 0.0312358533272974, 0.03623580313683074, 0.03000000000000002, 0.04309715120525932]\n"
     ]
    }
   ],
   "source": [
    "#converting hex string to integer representation of each character\n",
    "message_len = len(message)\n",
    "print(message_len)\n",
    "\n",
    "int_message = []\n",
    "\n",
    "for i in range(0,message_len,2):\n",
    "    int_message.append(int(message[i:i+2], base = 16))\n",
    "    \n",
    "print(int_message, len(int_message))\n",
    "\n",
    "#will hold the max frequency sum which will be the closest match to the english letter frequency distribution\n",
    "curr_max = 0\n",
    "\n",
    "mess_len = len(int_message)\n",
    "\n",
    "#freq_sums holds all possible frequency sums at each possible key so they can be compared visually and confirmed at the end\n",
    "freq_sums = []\n",
    "\n",
    "#testing key lengths from 1 to 13 (constraints of the assignment)\n",
    "for key_len in range(1,14):\n",
    "    \n",
    "    #there is a new stream for each different possible key length\n",
    "    stream = []\n",
    "    \n",
    "    #gather all integers belonging to the stream in the int_message list\n",
    "    i= 0\n",
    "    while i<mess_len:\n",
    "        stream.append(int_message[i])\n",
    "        i = i + key_len\n",
    "    stream_len = len(stream)\n",
    "    \n",
    "    #calculate the sum of the frequencies by counting the occurrence of the integer value in the stream, out of the total length\n",
    "    #of the stream. Square the value (I forget why)\n",
    "    sum_up = 0\n",
    "    for j in range(256):\n",
    "        sum_up = sum_up + (stream.count(j)/stream_len)**2\n",
    "    freq_sums.append(sum_up)\n",
    "    \n",
    "    #hold on to highest value of sum so far and the key length it occurs in\n",
    "    if sum_up > curr_max:\n",
    "        curr_max = sum_up\n",
    "        match = key_len\n",
    "        \n",
    "print(match, curr_max) \n",
    "print(freq_sums)"
   ]
  },
  {
   "cell_type": "code",
   "execution_count": 76,
   "id": "1da3beb4",
   "metadata": {},
   "outputs": [
    {
     "name": "stdout",
     "output_type": "stream",
     "text": [
      "0.026641845703125 1746\n",
      "0.0111846923828125 733\n",
      "0.0044708251953125 293\n",
      "0.0032958984375 216\n",
      "0.002471923828125 162\n",
      "0.0021514892578125 141\n",
      "0.00299072265625 196\n",
      "0.0012359619140625 81\n",
      "0.0009307861328125 61\n",
      "0.0010528564453125 69\n",
      "0.0007171630859375 47\n",
      "0.000732421875 48\n",
      "0.0006561279296875 43\n"
     ]
    }
   ],
   "source": [
    "#converting hex string to integer representation of each character\n",
    "message_len = len(message)\n",
    "\n",
    "\n",
    "int_message = []\n",
    "\n",
    "def key_subseq(message,skip):\n",
    "    subseq = message[::skip]\n",
    "    return subseq\n",
    "\n",
    "def freq_lst(stream):\n",
    "    freq_list = {}\n",
    "    for i in range(256):\n",
    "        if i not in freq_list:\n",
    "            freq_list[i] = (stream.count(i)/256)**2\n",
    "    return freq_list\n",
    "\n",
    "def freq_lst1(stream):\n",
    "    freq_list = {}\n",
    "    for i in range(256):\n",
    "        if i not in freq_list:\n",
    "            freq_list[i] = (stream.count(i))#/256)**2\n",
    "    return freq_list\n",
    "\n",
    "def invariant(freq):\n",
    "    hold = 0\n",
    "    for i in freq.keys():\n",
    "        hold = hold+freq[i]**2\n",
    "    return hold\n",
    "\n",
    "def freq_sum(freq_list):\n",
    "    values = freq_list.values()\n",
    "    sum_freq = sum(values)\n",
    "    return sum_freq\n",
    "\n",
    "for i in range(int(message_len/2)):\n",
    "    int_message.append(int(message[i:i+2], base = 16))\n",
    "    \n",
    "curr_max = 0\n",
    "\n",
    "for key_len in range(1,14):\n",
    "    stream = key_subseq(int_message,key_len)\n",
    "    let_freq = freq_lst(stream)\n",
    "    #print(let_freq)\n",
    "    sum_up = freq_sum(let_freq)\n",
    "    #print(len(stream),sum_up)\n",
    "    let_freq1 = freq_lst1(stream)\n",
    "    inv=invariant(let_freq1)\n",
    "    print(sum_up,inv)"
   ]
  },
  {
   "cell_type": "markdown",
   "id": "007d6aa7",
   "metadata": {},
   "source": [
    "# Observations\n",
    "\n",
    "It appears that the key length that achieves a value closest to the expected frequency distribution of the english letter alphabet is a key length of 7, so we will work with this as our expected key length. This key length outputs a frequency sum of about 0.04 which is closer to the known frequency distribution sum of 0.065 for the english letter alphabet than any other frequency sum attempted. My concern, however, is that the other frequency sums are *close* to the standard frequency sum, or at least, what I think of as close. I would expect all other frequency sums to be much closer to 1/265, but this is not the case. This worries me that I made a misstep somewhere. I will keep an eye out for revision, but move forward using a key length of 7 presently.\n",
    "\n",
    "# Update\n",
    "\n",
    "After reviewing the cryptography lecture videos, the value 0.065 is specifically the frequency sum for *just* the lowercase english letters, so this isn't necessarily the value we are trying to get close to in our sum here."
   ]
  },
  {
   "cell_type": "markdown",
   "id": "69f17f54",
   "metadata": {},
   "source": [
    "# Part 2 - Determine the i-th byte of the Key"
   ]
  },
  {
   "cell_type": "code",
   "execution_count": 40,
   "id": "4ae99477",
   "metadata": {},
   "outputs": [
    {
     "name": "stdout",
     "output_type": "stream",
     "text": [
      "[]\n"
     ]
    }
   ],
   "source": [
    "key_len = 7\n",
    "poss_key_val = []\n",
    "\n",
    "#Create an ith-byte stream: collect every 7th character, starting with i between 0 and 6\n",
    "for i in range(6):\n",
    "    stream = []\n",
    "    k = i\n",
    "    while k<mess_len:\n",
    "        stream.append(int_message[k])\n",
    "        k = k + key_len\n",
    "    #try decrypting stream using every possible byte value B. When B is correct, all byte values will be between 32 and 127\n",
    "    #AND lowercase english letter frequency sum should be close to 0.065. To check, tabulate freq q_a through q_z\n",
    "    #then sum up the product of each freq q with expected frequency p for that letter. In practice, the value B that causes\n",
    "    #the max of the sum will be the correct choice.\n",
    "    \n",
    "    for j in range(256):\n",
    "        dec_stream = []\n",
    "        for num in stream:\n",
    "            dec_stream.append(num^j)\n",
    "        if min(dec_stream)>31 and max(dec_stream)<128:\n",
    "            poss_key_val.append([\"stream \"+str(i), \"key_val: \" + str(j)])\n",
    "print(poss_key_val)"
   ]
  },
  {
   "cell_type": "code",
   "execution_count": 4,
   "id": "03bd1144",
   "metadata": {},
   "outputs": [
    {
     "name": "stdout",
     "output_type": "stream",
     "text": [
      "[0.007172985074626865, 0.006662537313432836, 0.02117820895522388, 0.01960731343283582, 0.017189552238805975, 0.017380597014925375, 0.010138358208955225, 0.00876865671641791, 0.02530134328358209, 0.021573880597014927, 0.022075671641791042, 0.008457761194029852, 0.01439820895522388, 0.014393880597014923, 0.03426567164179104, 0.01597089552238806, 0.014973134328358208, 0.015298507462686567, 0.02465970149253731, 0.028200597014925374, 0.027059701492537315, 0.02920507462686567, 0.017748358208955223, 0.019094626865671642, 0.023529104477611938, 0.029261194029850744, 0.010867910447761196, 0.03164776119402985, 0.015084328358208953, 0.019497462686567164, 0.025014179104477615, 0.04880298507462686, 0.0, 0.0, 0.0, 0.0, 0.0, 0.0, 0.0, 0.0, 0.0, 0.0, 0.0, 0.0, 0.0, 0.0, 0.0, 0.0, 0.0, 0.0, 0.0, 0.0, 0.0, 0.0, 0.0, 0.0, 0.0, 0.0, 0.0, 0.0, 0.0, 0.0, 0.0, 0.0, 2.835820895522388e-05, 0.0005671641791044776, 0.0018805970149253731, 0.0017910447761194028, 0.000835820895522388, 0.0029594029850746268, 0.007283582089552239, 0.0007850746268656716, 0.008477611940298507, 0.0032626865671641792, 0.00919402985074627, 0.029902686567164178, 0.020686567164179104, 0.01970149253731343, 0.0003119402985074627, 0.0062388059701492535, 0.027074626865671643, 0.022000000000000002, 0.008716417910447761, 0.013582089552238807, 0.006408955223880597, 0.0017761194029850744, 0.02358208955223881, 0.020686567164179104, 0.008656716417910448, 0.009044776119402985, 0.042916417910447764, 0.014164179104477611, 0.00991044776119403, 0.006119402985074626, 0.029164179104477612, 0.002, 0.0, 0.0, 0.0, 0.0, 0.0, 0.0, 0.0, 0.0, 0.0, 0.0, 0.0, 0.0, 0.0, 0.0, 0.0, 0.0, 0.0, 0.0, 0.0, 0.0, 0.0, 0.0, 0.0, 0.0, 0.0, 0.0, 0.0, 0.0, 0.0, 0.0, 0.0, 0.0, 0.0, 0.0, 0.0, 0.0, 0.0, 0.0, 0.0, 0.0, 0.0, 0.0, 0.0, 0.0, 0.0, 0.0, 0.0, 0.0, 0.0, 0.0, 0.0, 0.0, 0.0, 0.0, 0.0, 0.0, 0.0, 0.0, 0.0, 0.0, 0.0, 0.0, 0.0, 0.0, 0.0, 0.0, 0.0, 0.0, 0.0, 0.0, 0.0, 0.0, 0.0, 0.0, 0.0, 0.0, 0.0, 0.0, 0.0, 0.0, 0.0, 0.0, 0.0, 0.0, 0.0, 0.0, 0.0, 0.0, 0.0, 0.0, 0.0, 0.0, 0.0, 0.0, 0.0, 0.0, 0.0, 0.0, 0.0, 0.0, 0.0, 0.0, 0.0, 0.0, 0.0, 0.0, 0.0, 0.0, 0.0, 0.0, 0.0, 0.0, 0.0, 0.0, 0.0, 0.0, 0.0, 0.0, 0.0, 0.0, 0.0, 0.0, 0.0, 0.0, 0.0, 0.0, 0.0, 0.0, 0.0, 0.0, 0.0, 0.0, 0.0, 0.0, 0.0, 0.0, 0.0, 0.0, 0.0, 0.0, 0.0, 0.0, 0.0, 0.0, 0.0, 0.0, 0.0, 0.0, 0.0, 0.0, 0.0, 0.0, 0.0, 0.0, 0.0, 0.0, 0.0, 0.0, 0.0, 0.0] 0.04880298507462686\n",
      "[186, 31, 145, 178, 83, 205, 62]\n",
      "Cryptography is the practice and study of techniques for, among other things, secure communication in the presence of attackers. Cryptography has been used for hundreds, if not thousands, of years, but traditional cryptosystems were designed and evaluated in a fairly ad hoc manner. For example, the Vigenere encryption scheme was thought to be secure for decades after it was invented, but we now know, and this exercise demonstrates, that it can be broken very easily.\n"
     ]
    }
   ],
   "source": [
    "eng_let_freq_text = {97: .082, 98: .015, 99: .028, 100: .043, 101: .13, 102: .022, 103: .02, 104: .061, 105: .07, 106: .0015, 107: .0077, 108: .04, 109: .024, 110: .067, 111: .075, 112: .019, 113: .00095, 114: .06, 115: .063, 116: .091, 117: .028, 118: .0098, 119: .024, 120: .0015, 121: .02, 122: .00074}\n",
    "eng_let_freq_dict = {97: .078, 98: .02, 99: .04, 100: .038, 101: .11, 102: .014, 103: .03, 104: .023, 105: .086, 106: .0021, 107: .0097, 108: .053, 109: .024, 110: .067, 111: .075, 112: .019, 113: .00095, 114: .06, 115: .063, 116: .091, 117: .028, 118: .0098, 119: .024, 120: .0015, 121: .02, 122: .00074}\n",
    "def sum_eng_freq(eng_let_freq):\n",
    "    sum = 0\n",
    "    for key in eng_let_freq:\n",
    "        sum = sum + (eng_let_freq[key]**2)\n",
    "    return sum\n",
    "\n",
    "def create_stream(int_message,ith_byte,key_len):\n",
    "    stream = int_message[ith_byte::key_len]\n",
    "    return stream\n",
    "\n",
    "def dec_poss(stream,j):\n",
    "    dec_stream = []\n",
    "    for num in stream:\n",
    "        dec_stream.append(num^j)\n",
    "    return dec_stream\n",
    "    \n",
    "poss_key_val=[]\n",
    "for i in range(7):\n",
    "    stream = create_stream(int_message,i,7)\n",
    "    for j in range(256):\n",
    "        dec_stm = dec_poss(stream,j)\n",
    "        if min(dec_stm)>31 and max(dec_stm)<128:\n",
    "            poss_key_val.append([\"stream \"+str(i), \"key_val: \" + str(j)])\n",
    "#print(poss_key_val)\n",
    "\n",
    "\n",
    "def count_dict(stream):\n",
    "    count_dic={}\n",
    "    for num in range(97,123):\n",
    "        if num not in count_dic:\n",
    "            count_dic[num] = stream.count(num)\n",
    "    return count_dic\n",
    "\n",
    "def freq_dict(count_dic, stream):\n",
    "    freq_dic = {}\n",
    "    for key in count_dic.keys():\n",
    "        if key not in freq_dic:\n",
    "            freq_dic[key] = (count_dic[key]/len(stream))\n",
    "    return freq_dic\n",
    "\n",
    "def sum_freq(freq_dic, stream, eng_let_freq_text):\n",
    "    sum_up = 0\n",
    "    for key in freq_dic:\n",
    "            sum_up = sum_up + (freq_dic[key])*(eng_let_freq_text[key])\n",
    "    return sum_up\n",
    "\n",
    "stream = create_stream(int_message,1,7)\n",
    "count_dic = count_dict(stream)\n",
    "freq_dic = freq_dict(count_dic,stream)\n",
    "#print(count_dic)\n",
    "#print(freq_dict(count_dic,stream))\n",
    "#print(sum_eng_freq(eng_let_freq_text))\n",
    "#print(sum_freq(freq_dic, stream, eng_let_freq_text))\n",
    "\n",
    "stream = create_stream(int_message,1,7)\n",
    "check = []\n",
    "for j in range(256):\n",
    "    dec_stm = dec_poss(stream,j)\n",
    "    char_cnt = count_dict(dec_stm)\n",
    "    freq_cnt = freq_dict(char_cnt,dec_stm)\n",
    "    sum_up_freq = sum_freq(freq_cnt, dec_stm, eng_let_freq_text)\n",
    "    check.append(sum_up_freq)\n",
    "print(check,max(check))\n",
    "\n",
    "poss_key_val=[]\n",
    "key = []\n",
    "for i in range(7):\n",
    "    stream = create_stream(int_message,i,7)\n",
    "    curr_max = 0\n",
    "    for j in range(256):\n",
    "        dec_stm = dec_poss(stream,j)\n",
    "        char_cnt = count_dict(dec_stm)\n",
    "        freq_cnt = freq_dict(char_cnt,dec_stm)\n",
    "        sum_up_freq = sum_freq(freq_cnt, dec_stm, eng_let_freq_text)\n",
    "        if sum_up_freq > curr_max:\n",
    "            curr_max = sum_up_freq\n",
    "            B = j\n",
    "    key.append(B)\n",
    "print(key)\n",
    "\n",
    "#decrypt by applying key again:\n",
    "dec_message = \"\"\n",
    "    \n",
    "for k in range(len(int_message)):\n",
    "    l = k % 7\n",
    "    dec_message = dec_message + str(chr(int_message[k]^key[l]))\n",
    "print(dec_message)"
   ]
  },
  {
   "cell_type": "code",
   "execution_count": 101,
   "id": "90c8ed69",
   "metadata": {},
   "outputs": [
    {
     "name": "stdout",
     "output_type": "stream",
     "text": [
      "67\n",
      "C\n"
     ]
    }
   ],
   "source": [
    "print(249^186)\n",
    "print(chr(249^186))"
   ]
  },
  {
   "cell_type": "code",
   "execution_count": null,
   "id": "2bd86c3a",
   "metadata": {},
   "outputs": [],
   "source": []
  }
 ],
 "metadata": {
  "kernelspec": {
   "display_name": "Python 3",
   "language": "python",
   "name": "python3"
  },
  "language_info": {
   "codemirror_mode": {
    "name": "ipython",
    "version": 3
   },
   "file_extension": ".py",
   "mimetype": "text/x-python",
   "name": "python",
   "nbconvert_exporter": "python",
   "pygments_lexer": "ipython3",
   "version": "3.8.8"
  }
 },
 "nbformat": 4,
 "nbformat_minor": 5
}
