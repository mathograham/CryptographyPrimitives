{
 "cells": [
  {
   "cell_type": "markdown",
   "id": "4feacb00",
   "metadata": {},
   "source": [
    "# Implementing the Vigenere Cipher\n",
    "\n",
    "The Vigenere cipher is a type of encryption scheme similar to a shift cipher, where, given a message M, and a key k of length greater or equal to 1, the key characters are used one at a time as a shift encryption key to a character in the message. If the key length is shorter than the length of the message, once the last character of the key is applied to a character in the message, the key repeats; this continues until the last character in the message is reached. \n",
    "\n",
    "For example, if we have the following input\n",
    "\n",
    "message = \"cowabunga\"\n",
    "\n",
    "key = \"beg\"\n",
    "\n",
    "then the character \"c\" in message is encrypted using the shift cipher corresponding to the character \"b\", the character \"o\" is encrypted according to the shift cipher corresponding to \"e\", and after the shift cipher corresponding to \"g\" is applied to character \"w\", character \"a\" is encrypted using \"b\" again. \n",
    "\n",
    "cowabunga\n",
    "\n",
    "begbegbeg\n",
    "\n",
    "The shift cipher uses the following encryption scheme for lower case letters of the alphabet:\n",
    "\n",
    "a  b  c  d  e  f  g  h  i  j  k  l  m  n  o  p  q  r  s  t  u  v  w  x  y  z \n",
    "\n",
    "0  1  2  3  4  5  6  7  8  9  10 11 12 13 14 15 16 17 18 19 20 21 22 23 24 25\n",
    "\n",
    "The characters of the message and key are converted to the corresponding numbers, and then the numbers are added modulo 26. This produces a ciphertext. For a regular shift cipher encryption scheme, it is easy enough to determine a message, simply by checking all possible 26 keys. Vigenere cipher encryption is much more difficult to carry out a bruteforce attack on.\n",
    "\n",
    "In this implementation, to keep the environment simple, I am only using the lowercase english letter alphabet as input for both the message and key, but this is easily generalized using an ascii table and hexidecimal representation.\n",
    "\n",
    "# How to Implement\n",
    "\n",
    "My outline for implementing the vigenere cipher is as follows. \n",
    "\n",
    "1. Take message and key strings as input\n",
    "\n",
    "2. If length(key) > length(message), Take first amount of key equal to length of message. If length(key)<length(message), repeat key until length(modified key) = length(message). If length(key)=length(message), do nothing\n",
    "\n",
    "3. Define dictionary of lowercase english letters as keys and their corresponding value 0-25 as the value. \n",
    "\n",
    "4. Convert both the message and modified key to a respective list of integers using the dictionary\n",
    "\n",
    "5. Both lists will have the same length. For each index, add the entries from both lists, modulo 26. Save each value as an entry in a new list.\n",
    "\n",
    "6. Use the dictionary to convert back to letters. Concatenate the letters as characters in a string. Return the string\n",
    "\n",
    "7. Follow up: Make a decrypter."
   ]
  },
  {
   "cell_type": "code",
   "execution_count": 5,
   "id": "a24480d4",
   "metadata": {},
   "outputs": [],
   "source": [
    "message = \"tellhimaboutme\"\n",
    "key = \"cafe\""
   ]
  },
  {
   "cell_type": "code",
   "execution_count": 2,
   "id": "6af46924",
   "metadata": {},
   "outputs": [
    {
     "data": {
      "text/plain": [
       "'veqpjiredozxoe'"
      ]
     },
     "execution_count": 2,
     "metadata": {},
     "output_type": "execute_result"
    }
   ],
   "source": [
    "def vigenere(message, key):\n",
    "    \"Implements Vigenere encryption scheme using a given message and key\"\n",
    "    \n",
    "    #Check the length of the message against the length of the key\n",
    "    mes_len = len(message)\n",
    "    key_len = len(key)\n",
    "    \n",
    "    #If message longer, modify key to repeat initial key until matches length of message. If message shorter, modified key cuts\n",
    "    #off at length of message. If lengths equal, key is unchanged\n",
    "    mod_key = \"\"\n",
    "    for i in range(mes_len):\n",
    "        key_let = i%key_len\n",
    "        mod_key = mod_key + key[key_let]\n",
    "    \n",
    "    #Define dictionary of lowercase english letters as keys and their correspoinding integer 0-25 as values\n",
    "    alphabet = {\"a\": 0, \"b\": 1, \"c\": 2, \"d\": 3, \"e\": 4, \"f\": 5, \"g\": 6, \"h\": 7, \"i\": 8, \"j\": 9, \"k\": 10, \"l\":11, \"m\":12, \"n\": 13, \"o\":14, \"p\":15, \"q\":16, \"r\":17, \"s\":18, \"t\":19, \"u\":20, \"v\":21, \"w\":22, \"x\":23, \"y\":24, \"z\":25}\n",
    "    nums= {y:x for x,y in alphabet.items()}\n",
    "    #Convert the message and mod_key to a respective list of integers using the alphabet dictionary\n",
    "    conv_mes = []\n",
    "    conv_key = []\n",
    "    for char in message:\n",
    "        conv_mes.append(alphabet[char])\n",
    "    for _ in mod_key:\n",
    "        conv_key.append(alphabet[_])\n",
    "    \n",
    "    #For each index in the lists, add the entries from both lists, modulo 26. Save each value as an entry in a new list.\n",
    "    enc_mes_nums = []\n",
    "    for i in range(mes_len):\n",
    "        sum_mod_26 = (conv_mes[i] + conv_key[i])%26\n",
    "        enc_mes_nums.append(sum_mod_26)\n",
    "        \n",
    "    #Use dictionary on each entry of enc_mes_nums to make a string representing the encrypted message characters.\n",
    "    enc_mes = \"\"\n",
    "    for entry in enc_mes_nums:\n",
    "        enc_mes = enc_mes + nums[entry]\n",
    "    return enc_mes\n",
    "\n",
    "vigenere(message,key)"
   ]
  },
  {
   "cell_type": "markdown",
   "id": "315b7bf3",
   "metadata": {},
   "source": [
    "# Variant Vigenere Cipher - Hex Ciphertext\n",
    "\n",
    "It is easier to work with byte-wise XOR to create an integer-string ciphertext than it is to use modular addition. Additionally, this allows us to work with any ASCII plaintext character rather than just lowercase letters. In python, one can simply XOR two ASCII character integer representations together to find the new ASCII character. This means, for encoding purposes, all we need to do before using XOR is to convert the message text and key text into their ASCII integer representations.\n",
    "\n",
    "The way python is doing this is by implicitly using the bit-string representation of the integer number in the XOR operation. Knowing this, and understanding properties of bit-wise XOR, we know that decrypting the ciphertext is also easier using this method, because all that one needs to do is XOR the key with the encrypted message to get back to the original message."
   ]
  },
  {
   "cell_type": "code",
   "execution_count": 24,
   "id": "498aab53",
   "metadata": {},
   "outputs": [],
   "source": [
    "message = \"Tell him about me.\"\n",
    "key = \"cafe\""
   ]
  },
  {
   "cell_type": "code",
   "execution_count": 25,
   "id": "3d8dc7aa",
   "metadata": {},
   "outputs": [
    {
     "name": "stdout",
     "output_type": "stream",
     "text": [
      "Tell him about me.\n"
     ]
    }
   ],
   "source": [
    "def bitwise_vig(message,key):\n",
    "    #lists to hold the integer version of the message and the key\n",
    "    int_message = []\n",
    "    int_key = []\n",
    "    \n",
    "    #each for loop fills the lists with the integer representation of each character in the message string and the key string\n",
    "    for char in message:\n",
    "        int_message.append(ord(char))\n",
    "        \n",
    "    for _ in key:\n",
    "        int_key.append(ord(_))\n",
    "        \n",
    "    #the length of the key will be used to determine which integer of the key to XOR with each message integer\n",
    "    key_len = len(int_key)\n",
    "    enc_message = []\n",
    "    \n",
    "    for i in range(len(int_message)):\n",
    "        n = i % key_len\n",
    "        enc_message.append(int_message[i]^int_key[n])\n",
    "    \n",
    "\n",
    "    \n",
    "    #decrypt by applying key again:\n",
    "    dec_message = \"\"\n",
    "    \n",
    "    for k in range(len(enc_message)):\n",
    "        j = k % key_len\n",
    "        dec_message = dec_message + str(chr(enc_message[k]^int_key[j]))\n",
    "    print(dec_message)\n",
    "    \n",
    "\n",
    "bitwise_vig(message,key)\n",
    "    "
   ]
  }
 ],
 "metadata": {
  "kernelspec": {
   "display_name": "Python 3",
   "language": "python",
   "name": "python3"
  },
  "language_info": {
   "codemirror_mode": {
    "name": "ipython",
    "version": 3
   },
   "file_extension": ".py",
   "mimetype": "text/x-python",
   "name": "python",
   "nbconvert_exporter": "python",
   "pygments_lexer": "ipython3",
   "version": "3.8.8"
  }
 },
 "nbformat": 4,
 "nbformat_minor": 5
}
